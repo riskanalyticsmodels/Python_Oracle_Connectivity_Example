{
 "cells": [
  {
   "cell_type": "code",
   "execution_count": 1,
   "metadata": {},
   "outputs": [
    {
     "name": "stdout",
     "output_type": "stream",
     "text": [
      "Collecting cx_Oracle\n",
      "  Downloading https://files.pythonhosted.org/packages/1c/74/26f2fc9f7d9c0be9c91e29519c277da101e00d3f0e72ec1b5f72e4a87b65/cx_Oracle-7.1.0-cp36-cp36m-win_amd64.whl (186kB)\n",
      "Installing collected packages: cx-Oracle\n",
      "Successfully installed cx-Oracle-7.1.0\n"
     ]
    }
   ],
   "source": [
    "!pip install cx_Oracle"
   ]
  },
  {
   "cell_type": "code",
   "execution_count": 41,
   "metadata": {},
   "outputs": [
    {
     "name": "stdout",
     "output_type": "stream",
     "text": [
      "['COUNTRY_ID', 'COUNTRY_NAME', 'REGION_ID']\n",
      "[('AR', 'Argentina', 2), ('AU', 'Australia', 3), ('BE', 'Belgium', 1)]\n",
      "3\n"
     ]
    }
   ],
   "source": [
    "import pandas as pd\n",
    "import cx_Oracle\n",
    "from pandas import DataFrame\n",
    "\n",
    "# The credentials of HR Schema\n",
    "\n",
    "username='hr' \n",
    "password='hr' \n",
    "\n",
    "# Configuration details of Oracle connection\n",
    "# This assumes that a local Oracle XE Database has been installed on Port : 1521 with SID as XE\n",
    "\n",
    "dsn = cx_Oracle.makedsn(host='localhost',port=1521,sid='xe')\n",
    "con = cx_Oracle.connect(user=username, password=password, dsn= dsn ,encoding = \"UTF-8\", nencoding = \"UTF-8\")\n",
    "\n",
    "# The string is quoted with an u for Unicode Character\n",
    "\n",
    "sql=u'select * from countries where rownum < 4'\n",
    "c = con.cursor()\n",
    "c.execute(sql)\n",
    "results=c.fetchall()\n",
    "sz = len(results)\n",
    "\n",
    "df2 = pd.read_sql(sql, con)\n",
    "\n",
    "col_names = []\n",
    "for i in range(0, len(c.description)):\n",
    "    col_names.append(c.description[i][0])\n",
    "\n",
    "print(col_names)\n",
    "print(results)\n",
    "print(sz)\n",
    "df2.head()\n",
    "for row in c:\n",
    "    #print (row[0], \"-\", row[1])\n",
    "    df = DataFrame(c.fetchall())\n",
    "con.close()"
   ]
  },
  {
   "cell_type": "code",
   "execution_count": null,
   "metadata": {
    "collapsed": true
   },
   "outputs": [],
   "source": []
  },
  {
   "cell_type": "code",
   "execution_count": 42,
   "metadata": {},
   "outputs": [
    {
     "data": {
      "text/html": [
       "<div>\n",
       "<style>\n",
       "    .dataframe thead tr:only-child th {\n",
       "        text-align: right;\n",
       "    }\n",
       "\n",
       "    .dataframe thead th {\n",
       "        text-align: left;\n",
       "    }\n",
       "\n",
       "    .dataframe tbody tr th {\n",
       "        vertical-align: top;\n",
       "    }\n",
       "</style>\n",
       "<table border=\"1\" class=\"dataframe\">\n",
       "  <thead>\n",
       "    <tr style=\"text-align: right;\">\n",
       "      <th></th>\n",
       "      <th>COUNTRY_ID</th>\n",
       "      <th>COUNTRY_NAME</th>\n",
       "      <th>REGION_ID</th>\n",
       "    </tr>\n",
       "  </thead>\n",
       "  <tbody>\n",
       "    <tr>\n",
       "      <th>0</th>\n",
       "      <td>AR</td>\n",
       "      <td>Argentina</td>\n",
       "      <td>2</td>\n",
       "    </tr>\n",
       "    <tr>\n",
       "      <th>1</th>\n",
       "      <td>AU</td>\n",
       "      <td>Australia</td>\n",
       "      <td>3</td>\n",
       "    </tr>\n",
       "    <tr>\n",
       "      <th>2</th>\n",
       "      <td>BE</td>\n",
       "      <td>Belgium</td>\n",
       "      <td>1</td>\n",
       "    </tr>\n",
       "  </tbody>\n",
       "</table>\n",
       "</div>"
      ],
      "text/plain": [
       "  COUNTRY_ID COUNTRY_NAME  REGION_ID\n",
       "0         AR    Argentina          2\n",
       "1         AU    Australia          3\n",
       "2         BE      Belgium          1"
      ]
     },
     "execution_count": 42,
     "metadata": {},
     "output_type": "execute_result"
    }
   ],
   "source": [
    "df2"
   ]
  }
 ],
 "metadata": {
  "kernelspec": {
   "display_name": "Python 3",
   "language": "python",
   "name": "python3"
  },
  "language_info": {
   "codemirror_mode": {
    "name": "ipython",
    "version": 3
   },
   "file_extension": ".py",
   "mimetype": "text/x-python",
   "name": "python",
   "nbconvert_exporter": "python",
   "pygments_lexer": "ipython3",
   "version": "3.6.3"
  }
 },
 "nbformat": 4,
 "nbformat_minor": 2
}
